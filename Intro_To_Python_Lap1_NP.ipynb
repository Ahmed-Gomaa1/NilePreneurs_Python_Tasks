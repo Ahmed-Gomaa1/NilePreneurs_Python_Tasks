{
 "cells": [
  {
   "cell_type": "markdown",
   "metadata": {},
   "source": [
    "**Exercises 1:modify printing Hello python function code with a comment of the function usage.**\n",
    "def hello python\n",
    "print(Hello ‘ python!)\n"
   ]
  },
  {
   "cell_type": "code",
   "execution_count": 1,
   "metadata": {},
   "outputs": [
    {
     "name": "stdout",
     "output_type": "stream",
     "text": [
      "Hello ‘ python!\n"
     ]
    }
   ],
   "source": [
    "def hello_python():\n",
    "    # this function using for printing hello python\n",
    "    print(\"Hello ‘ python!\")\n",
    "\n",
    "\n",
    "hello_python()\n"
   ]
  },
  {
   "cell_type": "markdown",
   "metadata": {},
   "source": [
    "**Exercises 2:Write code to print the expected output using sep and end parameters.**"
   ]
  },
  {
   "cell_type": "code",
   "execution_count": 2,
   "metadata": {},
   "outputs": [
    {
     "name": "stdout",
     "output_type": "stream",
     "text": [
      "________________\n",
      "I'm__learning Python\n",
      "thanks NP:)\n",
      "________________\n",
      "I'm__learning Python\n",
      "thanks NP:)\n",
      "________________\n"
     ]
    }
   ],
   "source": [
    "\n",
    "print(\"________________\")\n",
    "print(\"I'm__learning Python\", end=\"\\n\")\n",
    "print(\"thanks NP:)\")\n",
    "print(\"________________\")\n",
    "print(\"I'm__learning Python\", \"thanks NP:)\", sep='\\n')\n",
    "print(\"________________\")\n"
   ]
  },
  {
   "cell_type": "markdown",
   "metadata": {},
   "source": [
    "**Exercises 3:in Statistics, the Mean value is calculated by dividing the sum of all values by the count of these values.**\n",
    " calculate the mean of 5 numbers 11, 7, 4, 18, 37"
   ]
  },
  {
   "cell_type": "code",
   "execution_count": 3,
   "metadata": {},
   "outputs": [
    {
     "name": "stdout",
     "output_type": "stream",
     "text": [
      "15.4\n"
     ]
    }
   ],
   "source": [
    "\n",
    "mean_of_numbers = (11+7+4+18+37)/5\n",
    "print(mean_of_numbers)\n"
   ]
  },
  {
   "cell_type": "markdown",
   "metadata": {},
   "source": [
    "**Exercises 4:Write a Python program to print the calendar of a given month and year**"
   ]
  },
  {
   "cell_type": "code",
   "execution_count": 4,
   "metadata": {},
   "outputs": [
    {
     "name": "stdout",
     "output_type": "stream",
     "text": [
      "   February 2001\n",
      "Mo Tu We Th Fr Sa Su\n",
      "          1  2  3  4\n",
      " 5  6  7  8  9 10 11\n",
      "12 13 14 15 16 17 18\n",
      "19 20 21 22 23 24 25\n",
      "26 27 28\n",
      "\n"
     ]
    }
   ],
   "source": [
    "\n",
    "import calendar\n",
    "year = int(input())\n",
    "month = int(input())\n",
    "print(calendar.month(year, month))\n"
   ]
  },
  {
   "cell_type": "markdown",
   "metadata": {},
   "source": [
    "**Exercises 5 :Write a Python program that accepts an integer (n) and computes the value of n+nn+nnn**"
   ]
  },
  {
   "cell_type": "code",
   "execution_count": 5,
   "metadata": {},
   "outputs": [
    {
     "name": "stdout",
     "output_type": "stream",
     "text": [
      "155\n"
     ]
    }
   ],
   "source": [
    "\n",
    "x = int(input())\n",
    "val = x+(x*x)+(x*x*x)\n",
    "print(val)\n"
   ]
  },
  {
   "cell_type": "markdown",
   "metadata": {},
   "source": [
    "**Exercises 6 :Write a Python program that accepts a word from the user and reverse it**"
   ]
  },
  {
   "cell_type": "code",
   "execution_count": 6,
   "metadata": {},
   "outputs": [
    {
     "name": "stdout",
     "output_type": "stream",
     "text": [
      "ghghg"
     ]
    }
   ],
   "source": [
    "\n",
    "word = input()\n",
    "for x in range(len(word) - 1, -1, -1):\n",
    "    print(word[x], end=\"\")\n"
   ]
  },
  {
   "cell_type": "markdown",
   "metadata": {},
   "source": [
    "**Exercises 7 :Write script to dynamically remove empty strings from the list**"
   ]
  },
  {
   "cell_type": "code",
   "execution_count": 3,
   "metadata": {},
   "outputs": [
    {
     "name": "stdout",
     "output_type": "stream",
     "text": [
      "['I’m', 'learning', 'python', 'at NP']\n"
     ]
    }
   ],
   "source": [
    "\n",
    "list1 = [\"I’m\", '', \"learning\", '', \"python\", '',  \"at NP\", '']\n",
    "\n",
    "for i in list1:\n",
    "    if i == \"\":\n",
    "        list1.remove(i)\n",
    "\n",
    "print(list1)\n"
   ]
  },
  {
   "cell_type": "markdown",
   "metadata": {},
   "source": [
    "**Exercises 8 :Counts the number of occurrences of item 50 from a tuple**"
   ]
  },
  {
   "cell_type": "code",
   "execution_count": 2,
   "metadata": {},
   "outputs": [
    {
     "name": "stdout",
     "output_type": "stream",
     "text": [
      "3\n"
     ]
    }
   ],
   "source": [
    "\n",
    "tup = (50, 10, 60, 70, 50, 505, 50)\n",
    "count = 0\n",
    "for x in tup:\n",
    "    if x == 50:\n",
    "        count += 1\n",
    "print(count)\n"
   ]
  },
  {
   "cell_type": "markdown",
   "metadata": {},
   "source": [
    "**Exercises 9:Return a new sorted set of identical items from a given two set**"
   ]
  },
  {
   "cell_type": "code",
   "execution_count": 9,
   "metadata": {},
   "outputs": [
    {
     "name": "stdout",
     "output_type": "stream",
     "text": [
      "{70, 40, 10, 50, 20, 60, 30}\n"
     ]
    }
   ],
   "source": [
    "\n",
    "set1 = {10, 20, 30, 40, 50}\n",
    "set2 = {30, 40, 50, 60, 70}\n",
    "sort_lis = list(set1) + list(set2)\n",
    "sort_set = set(sort_lis)\n",
    "print(sort_set)\n"
   ]
  },
  {
   "cell_type": "markdown",
   "metadata": {},
   "source": [
    "**Exercises 10 :Convert two lists into a dictionary**"
   ]
  },
  {
   "cell_type": "code",
   "execution_count": 1,
   "metadata": {},
   "outputs": [
    {
     "name": "stdout",
     "output_type": "stream",
     "text": [
      "{'Ten': 10, 'Twenty': 20, 'Thirty': 30}\n"
     ]
    }
   ],
   "source": [
    "\n",
    "keys = ['Ten', 'Twenty', 'Thirty']\n",
    "values = [10, 20, 30]\n",
    "res = {}\n",
    "for key in keys:\n",
    "    for value in values:\n",
    "        res[key] = value\n",
    "        values.remove(value)\n",
    "        break\n",
    "print(res)\n"
   ]
  }
 ],
 "metadata": {
  "kernelspec": {
   "display_name": "Python 3.9.7 64-bit",
   "language": "python",
   "name": "python3"
  },
  "language_info": {
   "codemirror_mode": {
    "name": "ipython",
    "version": 3
   },
   "file_extension": ".py",
   "mimetype": "text/x-python",
   "name": "python",
   "nbconvert_exporter": "python",
   "pygments_lexer": "ipython3",
   "version": "3.9.7"
  },
  "vscode": {
   "interpreter": {
    "hash": "4967e6ae66cdbca97a956efb29231a0cc91c8b76a2ce84b79640903ac8236afa"
   }
  }
 },
 "nbformat": 4,
 "nbformat_minor": 2
}
