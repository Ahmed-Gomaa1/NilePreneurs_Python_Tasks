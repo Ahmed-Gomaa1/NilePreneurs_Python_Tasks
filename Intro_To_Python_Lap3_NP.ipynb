{
 "cells": [
  {
   "cell_type": "markdown",
   "metadata": {},
   "source": [
    "**Exercises 1 :Write a Python class which has two methods get_string and print_string , get_string accept a string from the user and print print_string  print the string in upper case.**"
   ]
  },
  {
   "cell_type": "code",
   "execution_count": 1,
   "metadata": {},
   "outputs": [
    {
     "name": "stdout",
     "output_type": "stream",
     "text": [
      "ASAS\n"
     ]
    }
   ],
   "source": [
    "class one:\n",
    "    def get_String(self):\n",
    "        self.str1 = input()\n",
    "\n",
    "    def print_String(self):\n",
    "        print(self.str1.upper())\n",
    "\n",
    "\n",
    "st = one()\n",
    "st.get_String()\n",
    "st.print_String()\n"
   ]
  },
  {
   "cell_type": "markdown",
   "metadata": {},
   "source": [
    "**Exercises 2 :Create a child class Bus that will inherit all of the variables (name, max_speed, mileage) and methods (drive) of the Vehicle class**"
   ]
  },
  {
   "cell_type": "code",
   "execution_count": 34,
   "metadata": {},
   "outputs": [
    {
     "name": "stdout",
     "output_type": "stream",
     "text": [
      "bm 200 vv\n"
     ]
    }
   ],
   "source": [
    "class vehicle:\n",
    "    def __init__(self, n, m, mil):\n",
    "        self.name = n\n",
    "        self.max_speed = m\n",
    "        self.millage = mil\n",
    "\n",
    "    def drive(self):\n",
    "        pass\n",
    "\n",
    "    def information(self):\n",
    "        print(self.name, self.max_speed, self.millage)\n",
    "\n",
    "\n",
    "class bus(vehicle):\n",
    "    pass\n",
    "\n",
    "\n",
    "x = bus(\"bm\", 200, \"vv\")\n",
    "x.information()\n"
   ]
  },
  {
   "cell_type": "markdown",
   "metadata": {},
   "source": [
    "**Exercises 3 :Create two individual modules the first one has class Math that has add and sub methods and has sqrt function but out side the scope of the class , the second one make an instance of the Math class and printing the add and sub of 2 values and sqrt of a value**"
   ]
  },
  {
   "cell_type": "code",
   "execution_count": 3,
   "metadata": {},
   "outputs": [],
   "source": [
    "# Module 1\n",
    "class maath:\n",
    "    def add(self, x, y):\n",
    "        return x+y\n",
    "\n",
    "    def sub(self, x, y):\n",
    "        return x-y\n",
    "\n",
    "\n",
    "def sqr(x, y):\n",
    "    return x**y\n"
   ]
  },
  {
   "cell_type": "code",
   "execution_count": 4,
   "metadata": {},
   "outputs": [
    {
     "name": "stdout",
     "output_type": "stream",
     "text": [
      "8\n",
      "3\n",
      "25\n"
     ]
    }
   ],
   "source": [
    "# Module 2\n",
    "import module1\n",
    "\n",
    "instanc1 = module1.maath()\n",
    "print(instanc1.add(5, 3))\n",
    "print(instanc1.sub(5, 2))\n",
    "print(module1.sqr(5, 2))\n"
   ]
  },
  {
   "cell_type": "markdown",
   "metadata": {},
   "source": [
    "**Exercises 4 :Create a Class Factory with a class attribute and every time create an object of this class the class variable increase by 1 , and has a static method to return the value of the attribute**"
   ]
  },
  {
   "cell_type": "code",
   "execution_count": 28,
   "metadata": {},
   "outputs": [
    {
     "name": "stdout",
     "output_type": "stream",
     "text": [
      "0\n",
      "1\n",
      "2\n"
     ]
    }
   ],
   "source": [
    "class two:\n",
    "    count = 0\n",
    "\n",
    "    def __init__(self):\n",
    "        two.count = two.count+1\n",
    "\n",
    "    @staticmethod\n",
    "    def num_of_Object():\n",
    "        return two.count\n",
    "\n",
    "\n",
    "print(two.num_of_Object())\n",
    "r = two()\n",
    "print(two.num_of_Object())\n",
    "s = two()\n",
    "print(two.num_of_Object())\n"
   ]
  }
 ],
 "metadata": {
  "kernelspec": {
   "display_name": "Python 3.9.7 64-bit",
   "language": "python",
   "name": "python3"
  },
  "language_info": {
   "codemirror_mode": {
    "name": "ipython",
    "version": 3
   },
   "file_extension": ".py",
   "mimetype": "text/x-python",
   "name": "python",
   "nbconvert_exporter": "python",
   "pygments_lexer": "ipython3",
   "version": "3.9.7"
  },
  "vscode": {
   "interpreter": {
    "hash": "4967e6ae66cdbca97a956efb29231a0cc91c8b76a2ce84b79640903ac8236afa"
   }
  }
 },
 "nbformat": 4,
 "nbformat_minor": 2
}
