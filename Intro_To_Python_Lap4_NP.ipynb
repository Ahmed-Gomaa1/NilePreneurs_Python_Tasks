{
 "cells": [
  {
   "cell_type": "markdown",
   "metadata": {},
   "source": [
    "**Exercises 1 :write a python script to transfer a file from extension to extension for example given a file named main.c and py extension you should transfer that file into main.py**"
   ]
  },
  {
   "cell_type": "code",
   "execution_count": 4,
   "metadata": {},
   "outputs": [],
   "source": [
    "x=input()\n",
    "y=input()\n",
    "xc=x.split(\"/\")\n",
    "xcc=xc[-1].split(\".\")\n",
    "nfile=xcc[0]+\".\"+y\n",
    "f = open(nfile,'x')\n",
    "f.close()\n"
   ]
  },
  {
   "cell_type": "markdown",
   "metadata": {},
   "source": [
    "**Exercises 2 :write a python script that checks for a file if it exists or not**"
   ]
  },
  {
   "cell_type": "code",
   "execution_count": 5,
   "metadata": {},
   "outputs": [
    {
     "name": "stdout",
     "output_type": "stream",
     "text": [
      "False\n"
     ]
    }
   ],
   "source": [
    "import os.path\n",
    "file = input()\n",
    "file_exists = os.path.exists(file)\n",
    "\n",
    "print(file_exists)\n"
   ]
  },
  {
   "cell_type": "markdown",
   "metadata": {},
   "source": [
    "**Exercises 3 :Sort sampleJson keys and write them into a JSON file sampleJson = {\"id\" : 1, \"name\" : \"value2\", \"age\" : 29}**"
   ]
  },
  {
   "cell_type": "code",
   "execution_count": 17,
   "metadata": {},
   "outputs": [
    {
     "name": "stdout",
     "output_type": "stream",
     "text": [
      "{\"age\": 29, \"id\": 1, \"name\": \"value2\"}\n",
      "{\n"
     ]
    }
   ],
   "source": [
    "import json\n",
    "\n",
    "sampleJson = {\"id\" : 1, \"name\" : \"value2\", \"age\" : 29}\n",
    "json_file = json.dumps(sampleJson, sort_keys = True)\n",
    "with open('JsonF.json','w') as file:\n",
    "    file.write(json_file)\n",
    "    \n",
    "f = open('JsonF.json','r')\n",
    "print(f.read())\n",
    "f.close()\n",
    "print(json_file[0])"
   ]
  },
  {
   "cell_type": "markdown",
   "metadata": {},
   "source": [
    "**Exercises 4 :Parse the following JSON to get all the values of a key ‘name’ within an array and if its an error just print the error only**"
   ]
  },
  {
   "cell_type": "code",
   "execution_count": 39,
   "metadata": {},
   "outputs": [
    {
     "name": "stdout",
     "output_type": "stream",
     "text": [
      "['name1', 'name2']\n"
     ]
    }
   ],
   "source": [
    "import json\n",
    "sampleJson = [\n",
    "    {\n",
    "        \"id\": 1,\n",
    "        \"name\": \"name1\",\n",
    "        \"color\": [\n",
    "            \"red\",\n",
    "            \"green\"]\n",
    "    },\n",
    "    {\n",
    "        \"id\": 2,\n",
    "        \"name\": \"name2\",\n",
    "        \"color\": [\n",
    "            \"pink\",\n",
    "            \"yellow\"]\n",
    "    }\n",
    "]\n",
    "\n",
    "try:\n",
    "    contents = json.dumps(sampleJson)\n",
    "    li = []\n",
    "    for i in range(len(sampleJson)):\n",
    "        li.append(sampleJson[i]['name'])\n",
    "except Exception as e:\n",
    "    print(e)\n",
    "\n",
    "print(li)\n"
   ]
  },
  {
   "cell_type": "markdown",
   "metadata": {},
   "source": [
    "**Exercises 5 :Write the following dictionary (dict_data) data to a CSV file (Names.csv) dict_data = [{'No': 1, 'Name': 'Alex', 'Country': 'India'},{'No': 2, 'Name': 'Ben', 'Country': 'USA'},{'No': 3, 'Name': 'Shri Ram', 'Country': 'India'},{'No': 4, 'Name': 'Smith', 'Country': 'USA'},{'No': 5, 'Name': 'Yuva Raj', 'Country': 'India'},]**"
   ]
  },
  {
   "cell_type": "code",
   "execution_count": 24,
   "metadata": {},
   "outputs": [],
   "source": [
    "dict_data = [\n",
    "{'No': 1, 'Name': 'Alex', 'Country': 'India'},\n",
    "{'No': 2, 'Name': 'Ben', 'Country': 'USA'},\n",
    "{'No': 3, 'Name': 'Shri Ram', 'Country': 'India'},\n",
    "{'No': 4, 'Name': 'Smith', 'Country': 'USA'},\n",
    "{'No': 5, 'Name': 'Yuva Raj', 'Country': 'India'},\n",
    "]\n",
    "import csv\n",
    "with open('Names.csv', 'w', newline='') as file:\n",
    "    fieldnames=['No','Name','Country']\n",
    "    writer = csv.DictWriter(file,fieldnames)\n",
    "    writer.writeheader()\n",
    "    writer.writerow(dict_data[0])\n",
    "    writer.writerow(dict_data[1])\n",
    "    writer.writerow(dict_data[2])\n",
    "    writer.writerow(dict_data[3])\n",
    "    writer.writerow(dict_data[4])"
   ]
  }
 ],
 "metadata": {
  "kernelspec": {
   "display_name": "Python 3.7.3 64-bit",
   "language": "python",
   "name": "python3"
  },
  "language_info": {
   "codemirror_mode": {
    "name": "ipython",
    "version": 3
   },
   "file_extension": ".py",
   "mimetype": "text/x-python",
   "name": "python",
   "nbconvert_exporter": "python",
   "pygments_lexer": "ipython3",
   "version": "3.7.3"
  },
  "orig_nbformat": 4,
  "vscode": {
   "interpreter": {
    "hash": "4e5eaef7d90dbf67a9d8bda859dfd775c47da9eb7f268ae6357db6fb20148d63"
   }
  }
 },
 "nbformat": 4,
 "nbformat_minor": 2
}
