{
 "cells": [
  {
   "cell_type": "markdown",
   "metadata": {},
   "source": [
    "**Exercises 1 :for the following List :p_Languages = [\"Python\", \"Java\", \"C++\"] kindly, for each element in list write a function take the list and print the following:Python is a Programming Language Its name starts with P Its name has 6 letters**"
   ]
  },
  {
   "cell_type": "code",
   "execution_count": 1,
   "metadata": {},
   "outputs": [
    {
     "name": "stdout",
     "output_type": "stream",
     "text": [
      "python is a Programming language its name starts with p its name has 6 letters\n",
      "java is a Programming language its name starts with j its name has 4 letters\n",
      "c++ is a Programming language its name starts with c its name has 3 letters\n"
     ]
    }
   ],
   "source": [
    "def displayfun(x):\n",
    "    for i in x:\n",
    "        print(i + \" is a Programming language its name starts with \" +\n",
    "              i[0]+\" its name has \"+str(len(i))+\" letters\")\n",
    "\n",
    "\n",
    "p_languages = ['python', 'java', 'c++']\n",
    "displayfun(p_languages)\n"
   ]
  },
  {
   "cell_type": "markdown",
   "metadata": {},
   "source": [
    "**Exercises 2 :Create a new dictionary by extracting the specific keys from a another dictionary by Dictionary Comprehension**"
   ]
  },
  {
   "cell_type": "code",
   "execution_count": 11,
   "metadata": {},
   "outputs": [
    {
     "name": "stdout",
     "output_type": "stream",
     "text": [
      "{'name': 'Kelly', 'salary': 8000}\n"
     ]
    }
   ],
   "source": [
    "sampleDict = {\n",
    "    \"name\": \"Kelly\",\n",
    "    \"age\": 25,\n",
    "    \"salary\": 8000,\n",
    "    \"city\": \"New york\"}\n",
    "kys = [\"name\", \"salary\"]\n",
    "test_dict = {'nikhil': 1, \"akash\": 2, 'akshat': 3, 'manjeet': 4}\n",
    "res = {key: sampleDict[key] for key in sampleDict.keys() & kys}\n",
    "print(res)\n"
   ]
  },
  {
   "cell_type": "markdown",
   "metadata": {},
   "source": [
    "**Exercises 3 :Write a Python function that checks whether a passed string is palindrome or not.**"
   ]
  },
  {
   "cell_type": "code",
   "execution_count": 15,
   "metadata": {},
   "outputs": [
    {
     "name": "stdout",
     "output_type": "stream",
     "text": [
      "asd\n",
      "False\n"
     ]
    }
   ],
   "source": [
    "def check_palindrome(y):\n",
    "    if y[0] == y[-1]:\n",
    "        return True\n",
    "    else:\n",
    "        return False\n",
    "\n",
    "\n",
    "x = input()\n",
    "print(check_palindrome(x))\n"
   ]
  },
  {
   "cell_type": "markdown",
   "metadata": {},
   "source": [
    "**Exercises 4:Write a Python program that takes a string of words and returns the length of the longest one.**"
   ]
  },
  {
   "cell_type": "code",
   "execution_count": 26,
   "metadata": {},
   "outputs": [
    {
     "name": "stdout",
     "output_type": "stream",
     "text": [
      "as sdf dfghj ghj\n",
      "5\n"
     ]
    }
   ],
   "source": [
    "x = input()\n",
    "list1 = list(x.split(\" \"))\n",
    "mx = 0\n",
    "for x in list1:\n",
    "    if len(x) > mx:\n",
    "        mx = len(x)\n",
    "    else:\n",
    "        continue\n",
    "\n",
    "print(mx)\n"
   ]
  },
  {
   "cell_type": "markdown",
   "metadata": {},
   "source": [
    "**Exercises 5 :Write a Python function to find the Max of three numbers using nested function**"
   ]
  },
  {
   "cell_type": "code",
   "execution_count": 6,
   "metadata": {},
   "outputs": [
    {
     "name": "stdout",
     "output_type": "stream",
     "text": [
      "50\n"
     ]
    }
   ],
   "source": [
    "li = [10, 50, 3]\n",
    "if li[0] > li[1] and li[0] > li[2]:\n",
    "    mx = li[0]\n",
    "elif li[1] > li[0] and li[1] > li[2]:\n",
    "    mx = li[1]\n",
    "else:\n",
    "    mx = li[2]\n",
    "print(mx)\n"
   ]
  },
  {
   "cell_type": "markdown",
   "metadata": {},
   "source": [
    "**Exercises 6 :Write a Recursive Function to get the factorial of a non-negative integer**"
   ]
  },
  {
   "cell_type": "code",
   "execution_count": 9,
   "metadata": {},
   "outputs": [
    {
     "name": "stdout",
     "output_type": "stream",
     "text": [
      "15\n"
     ]
    }
   ],
   "source": [
    "def factorial(n):\n",
    "    if n < 0:\n",
    "        return 0\n",
    "    else:\n",
    "        return n+factorial(n-1)\n",
    "\n",
    "\n",
    "print(factorial(5))\n"
   ]
  },
  {
   "cell_type": "markdown",
   "metadata": {},
   "source": [
    "**Exercises 7:Write a Python function that takes a number as a parameter and check the number is prime or not**"
   ]
  },
  {
   "cell_type": "code",
   "execution_count": 7,
   "metadata": {},
   "outputs": [
    {
     "name": "stdout",
     "output_type": "stream",
     "text": [
      "False\n"
     ]
    }
   ],
   "source": [
    "def check_prime(y):\n",
    "    for number in range(2, y):\n",
    "        if y % number == 0:\n",
    "            return False\n",
    "    return True\n",
    "\n",
    "\n",
    "x = int(input())\n",
    "print(check_prime(x))\n"
   ]
  },
  {
   "cell_type": "markdown",
   "metadata": {},
   "source": [
    "**Exercises 8:Write a Python function that takes Infinite number of arguments and print all**"
   ]
  },
  {
   "cell_type": "code",
   "execution_count": 11,
   "metadata": {},
   "outputs": [
    {
     "name": "stdout",
     "output_type": "stream",
     "text": [
      "5\n",
      "2\n",
      "3\n",
      "6\n"
     ]
    }
   ],
   "source": [
    "def Infinite_arguments(*vb):\n",
    "    for i in vb:\n",
    "        print(i)\n",
    "\n",
    "\n",
    "Infinite_arguments(5, 2, 3, 6)\n"
   ]
  },
  {
   "cell_type": "markdown",
   "metadata": {},
   "source": [
    "**Exercises 9 :Write a function calculation() such that it can accept two variables and calculate the addition and subtraction of it. And also it must return both addition and subtraction in a single return call**"
   ]
  },
  {
   "cell_type": "code",
   "execution_count": 13,
   "metadata": {},
   "outputs": [
    {
     "name": "stdout",
     "output_type": "stream",
     "text": [
      "(8, 2)\n"
     ]
    }
   ],
   "source": [
    "def calculation(x, y):\n",
    "    return (x+y, x-y)\n",
    "\n",
    "\n",
    "print(calculation(5, 3))\n"
   ]
  },
  {
   "cell_type": "markdown",
   "metadata": {},
   "source": [
    "**Exercises 10 :Write a recursive function to calculate the sum of numbers from n to 1 exclusive n**"
   ]
  },
  {
   "cell_type": "code",
   "execution_count": 38,
   "metadata": {},
   "outputs": [
    {
     "name": "stdout",
     "output_type": "stream",
     "text": [
      "10\n"
     ]
    }
   ],
   "source": [
    "def recursive(n):\n",
    "    x = n-1\n",
    "    if x < 0:\n",
    "        return 0\n",
    "    else:\n",
    "        return x+recursive(n-1)\n",
    "\n",
    "\n",
    "print(recursive(5))\n"
   ]
  }
 ],
 "metadata": {
  "kernelspec": {
   "display_name": "Python 3.7.3 64-bit",
   "language": "python",
   "name": "python3"
  },
  "language_info": {
   "codemirror_mode": {
    "name": "ipython",
    "version": 3
   },
   "file_extension": ".py",
   "mimetype": "text/x-python",
   "name": "python",
   "nbconvert_exporter": "python",
   "pygments_lexer": "ipython3",
   "version": "3.7.3"
  },
  "vscode": {
   "interpreter": {
    "hash": "4e5eaef7d90dbf67a9d8bda859dfd775c47da9eb7f268ae6357db6fb20148d63"
   }
  }
 },
 "nbformat": 4,
 "nbformat_minor": 2
}
